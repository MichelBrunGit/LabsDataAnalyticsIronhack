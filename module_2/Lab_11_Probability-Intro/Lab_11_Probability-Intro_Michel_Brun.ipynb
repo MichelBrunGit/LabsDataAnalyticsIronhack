{
 "cells": [
  {
   "cell_type": "markdown",
   "metadata": {},
   "source": [
    "# Introduction To Probability\n",
    "## Challenge 1\n",
    "\n",
    "A and B are events of a probability space with $(\\omega, \\sigma, P)$ such that $P(A) = 0.3$, $P(B) = 0.6$ and $P(A \\cap B) = 0.1$\n",
    "\n",
    "Which of the following statements are false?\n",
    "* $P(A \\cup B) = 0.6$\n",
    "* $P(A \\cap B^{C}) = 0.2$\n",
    "* $P(A \\cap (B \\cup B^{C})) = 0.4$\n",
    "* $P(A^{C} \\cap B^{C}) = 0.3$\n",
    "* $P((A \\cap B)^{C}) = 0.9$"
   ]
  },
  {
   "cell_type": "markdown",
   "metadata": {},
   "source": [
    "𝑃(𝐴∪𝐵)=0.6 -> False\n",
    "P(A)+P(B)-P(A&B)=0.3+0.6-0.1=0.8\n",
    "\n",
    "𝑃(𝐴∩𝐵𝐶)=0.2 -> True\n",
    "𝑃(𝐴∩𝐵𝐶)=P(A)-P(AandB)=0.3-0.1=0.2\n",
    "\n",
    "𝑃(𝐴∩(𝐵∪𝐵𝐶))=0.4 ->False\n",
    "𝑃(𝐴∩(𝐵∪𝐵𝐶))=P(A)=0.3\n",
    "\n",
    "𝑃(𝐴𝐶∩𝐵𝐶)=0.3 -> False\n",
    "𝑃(𝐴𝐶∩𝐵𝐶)=1-[P(A)+P(B)-P(AouB)]=1-0.8=0.2\n",
    "\n",
    "𝑃((𝐴∩𝐵)𝐶)=0.9 -> True\n",
    "𝑃((𝐴∩𝐵)𝐶)=1-P(AetB)=1-0.1=0.9"
   ]
  },
  {
   "cell_type": "markdown",
   "metadata": {},
   "source": [
    "## Challenge 2\n",
    "There is a box with 10 white balls, 12 red balls and 8 black balls. Calculate the probability of:\n",
    "* Taking a white ball out.\n",
    "* Taking a white ball out after taking a black ball out.\n",
    "* Taking a red ball out after taking a black and a red ball out.\n",
    "* Taking a red ball out after taking a black and a red ball out with reposition.\n",
    "\n",
    "**Hint**: Reposition means putting back the ball into the box after taking it out."
   ]
  },
  {
   "cell_type": "code",
   "execution_count": null,
   "metadata": {},
   "outputs": [],
   "source": [
    "Taking a white ball out.\n",
    "=10/(10+12+8)=10/30=0.33\n",
    "\n",
    "Taking a white ball out after taking a black ball out.\n",
    "=(8/30)*(10/29)=8/87=0.09\n",
    "\n",
    "Taking a red ball out after taking a black and a red ball out.\n",
    "=(12/30)*(8/29)*(11/28)=1056/24360=0.04\n",
    "\n",
    "Taking a red ball out after taking a black and a red ball out with reposition.\n",
    "=(12/30)*(8/30)*(12/30)=1152/27000=0.04"
   ]
  },
  {
   "cell_type": "markdown",
   "metadata": {},
   "source": [
    "## Challenge 3\n",
    "\n",
    "You are planning to go on a picnic today but the morning is cloudy. You hate rain so you don't know whether to go out or stay home! To help you make a decision, you gather the following data about rainy days:\n",
    "\n",
    "* 50% of all rainy days start off cloudy!\n",
    "* Cloudy mornings are common. About 40% of days start cloudy. \n",
    "* This month is usually dry so only 3 of 30 days (10%) tend to be rainy. \n",
    "\n",
    "What is the chance of rain during the day?"
   ]
  },
  {
   "cell_type": "markdown",
   "metadata": {},
   "source": [
    "P(Rain given cloud)=P(Cloud given rain)*P(rain)/P(Cloud)=0.5*0.1/0.4=12,5%"
   ]
  },
  {
   "cell_type": "markdown",
   "metadata": {},
   "source": [
    "## Challenge 4\n",
    "\n",
    "One thousand people were asked through a telephone survey whether they thought more street lighting is needed at night or not.\n",
    "\n",
    "Out of the 480 men that answered the survey, 324 said yes and 156 said no. On the other hand, out of the 520 women that answered, 351 said yes and 169 said no. \n",
    "\n",
    "We wonder if men and women have a different opinions about the street lighting matter. Is gender relevant or irrelevant to the question?\n",
    "\n",
    "Consider the following events:\n",
    "- The answer is yes, so the person that answered thinks that more street lighting is needed.\n",
    "- The person who answered is a man.\n",
    "\n",
    "We want to know if these events are independent, that is, if the fact of wanting more light depends on whether one is male or female. Are these events independent or not?\n",
    "\n",
    "**Hint**: To clearly compare the answers by gender, it is best to place the data in a table."
   ]
  },
  {
   "cell_type": "code",
   "execution_count": 8,
   "metadata": {},
   "outputs": [
    {
     "data": {
      "text/html": [
       "<div>\n",
       "<style scoped>\n",
       "    .dataframe tbody tr th:only-of-type {\n",
       "        vertical-align: middle;\n",
       "    }\n",
       "\n",
       "    .dataframe tbody tr th {\n",
       "        vertical-align: top;\n",
       "    }\n",
       "\n",
       "    .dataframe thead th {\n",
       "        text-align: right;\n",
       "    }\n",
       "</style>\n",
       "<table border=\"1\" class=\"dataframe\">\n",
       "  <thead>\n",
       "    <tr style=\"text-align: right;\">\n",
       "      <th></th>\n",
       "      <th>Unnamed: 0</th>\n",
       "      <th>Men</th>\n",
       "      <th>Women</th>\n",
       "      <th>Total</th>\n",
       "    </tr>\n",
       "  </thead>\n",
       "  <tbody>\n",
       "    <tr>\n",
       "      <th>0</th>\n",
       "      <td>Yes</td>\n",
       "      <td>324</td>\n",
       "      <td>351</td>\n",
       "      <td>675</td>\n",
       "    </tr>\n",
       "    <tr>\n",
       "      <th>1</th>\n",
       "      <td>No</td>\n",
       "      <td>156</td>\n",
       "      <td>169</td>\n",
       "      <td>325</td>\n",
       "    </tr>\n",
       "    <tr>\n",
       "      <th>2</th>\n",
       "      <td>Total</td>\n",
       "      <td>480</td>\n",
       "      <td>520</td>\n",
       "      <td>1000</td>\n",
       "    </tr>\n",
       "  </tbody>\n",
       "</table>\n",
       "</div>"
      ],
      "text/plain": [
       "  Unnamed: 0  Men  Women  Total\n",
       "0        Yes  324    351    675\n",
       "1         No  156    169    325\n",
       "2      Total  480    520   1000"
      ]
     },
     "execution_count": 8,
     "metadata": {},
     "output_type": "execute_result"
    }
   ],
   "source": [
    "# your code here\n",
    "import pandas as pd\n",
    "data=pd.read_excel(r\"C:\\Users\\Michel\\git2\\LabsDataAnalyticsIronhack\\module_2\\Lab_11_Probability-Intro\\lab11.xlsx\")\n",
    "data"
   ]
  },
  {
   "cell_type": "code",
   "execution_count": 14,
   "metadata": {},
   "outputs": [
    {
     "name": "stdout",
     "output_type": "stream",
     "text": [
      "P(Yes & Men) =  0.324\n",
      "P(Yes)*P(Men)= 675 * 480 = 0.324\n",
      "P(Yes & Women) =  0.351\n",
      "P(Yes)*P(Women)= 675 * 520 = 0.351\n"
     ]
    }
   ],
   "source": [
    "print(\"P(Yes & Men) = \",data['Men'][0]/1000)\n",
    "print(\"P(Yes)*P(Men)=\",data['Total'][0],\"*\",data['Men'][2],'=',data['Total'][0]*data['Men'][2]/(1000*1000))\n",
    "\n",
    "print(\"P(Yes & Women) = \",data['Women'][0]/1000)\n",
    "print(\"P(Yes)*P(Women)=\",data['Total'][0],\"*\",data['Women'][2],'=',data['Total'][0]*data['Women'][2]/(1000*1000))\n"
   ]
  },
  {
   "cell_type": "markdown",
   "metadata": {},
   "source": [
    "Since P(Yes & Men) = P(Yes)*P(Men) then we can tell the event are INDEPENDENT\n",
    "Same for Women"
   ]
  }
 ],
 "metadata": {
  "kernelspec": {
   "display_name": "Python 3",
   "language": "python",
   "name": "python3"
  },
  "language_info": {
   "codemirror_mode": {
    "name": "ipython",
    "version": 3
   },
   "file_extension": ".py",
   "mimetype": "text/x-python",
   "name": "python",
   "nbconvert_exporter": "python",
   "pygments_lexer": "ipython3",
   "version": "3.8.8"
  }
 },
 "nbformat": 4,
 "nbformat_minor": 2
}
